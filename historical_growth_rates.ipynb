{
 "cells": [
  {
   "cell_type": "code",
   "execution_count": 1,
   "metadata": {
    "collapsed": false
   },
   "outputs": [],
   "source": [
    "%load_ext autoreload\n",
    "%autoreload 2\n",
    "\n",
    "%matplotlib inline"
   ]
  },
  {
   "cell_type": "code",
   "execution_count": 2,
   "metadata": {
    "collapsed": false
   },
   "outputs": [
    {
     "name": "stderr",
     "output_type": "stream",
     "text": [
      "C:\\Users\\Admin\\Anaconda3\\lib\\site-packages\\pandas\\io\\wb.py:19: FutureWarning: \n",
      "The pandas.io.wb module is moved to a separate package (pandas-datareader) and will be removed from pandas in a future version.\n",
      "After installing the pandas-datareader package (https://github.com/pydata/pandas-datareader), you can change the import ``from pandas.io import data, wb`` to ``from pandas_datareader import data, wb``.\n",
      "  FutureWarning)\n"
     ]
    }
   ],
   "source": [
    "from fancy_round import fancy_round\n",
    "from wb_api_wrapper import *\n",
    "import numpy as np\n",
    "import pandas as pd\n"
   ]
  },
  {
   "cell_type": "markdown",
   "metadata": {},
   "source": [
    "### Data from WDI"
   ]
  },
  {
   "cell_type": "code",
   "execution_count": 3,
   "metadata": {
    "collapsed": false
   },
   "outputs": [],
   "source": [
    "groups = pd.read_csv(\"income_groups.csv\",header =4,index_col=[\"Economy\"], na_values=\"..\", usecols=[\"Economy\",\"Lending category\"] )\n",
    "wb_countries=groups.dropna().index"
   ]
  },
  {
   "cell_type": "code",
   "execution_count": 4,
   "metadata": {
    "collapsed": false
   },
   "outputs": [],
   "source": [
    "data_wb = get_wb(\"NY.GDP.PCAP.KN\")#GDP per capita (constant LCU)\n",
    "\"\"\" NY.GDP.MKTP.KD.ZG real growth ong serie\n",
    "\"NY.GDP.PCAP.PP.CD\"  ppp gdp pc short series\n",
    "NY.GDP.MKTP.KD \n",
    "NY.GDP.PCAP.KD\"\"\";\n",
    "\n"
   ]
  },
  {
   "cell_type": "markdown",
   "metadata": {},
   "source": [
    "### Data from PWT "
   ]
  },
  {
   "cell_type": "code",
   "execution_count": 5,
   "metadata": {
    "collapsed": false
   },
   "outputs": [],
   "source": [
    "iso_to_wb =pd.read_csv('iso3_to_wb_name.csv',index_col=\"iso3\",squeeze=True);\n",
    "\n",
    "def replace_with_warning(series_in,dico):\n",
    "    out=series_in.replace(dico)\n",
    "    bads = [c for c in out if c not in dico.tolist()]\n",
    "    if bads !=[]:\n",
    "        warnings.warn(\"\\nbad country names : \"+\",\".join(bads))\n",
    "    return out\n",
    "\n",
    "if False:\n",
    "    #Data on real GDP per capita. Ends in 2002\n",
    "    pwt = pd.read_csv(\"FebPwtExport11172015.csv\").drop(\"VariableCode\",axis=1).rename(columns={\"YearCode\":\"year\"})\n",
    "    pwt[\"country\"] = replace_with_warning(pwt[\"RegionCode\"],iso_to_wb)\n",
    "\n",
    "    #pivots data\n",
    "    hop=pwt.set_index([\"country\"])[[\"year\",\"AggValue\"]]\n",
    "    data_pwt=hop.pivot(columns=\"year\",values=\"AggValue\")\n",
    "\n",
    "else:\n",
    "    #Data on pop and reald gdp PPP. Ends in 2010\n",
    "    pwt= pd.read_csv(\"pwt_rgdpe_pop_8.1.csv\").rename(columns={\"YearCode\":\"year\"})\n",
    "    pwt[\"country\"] = replace_with_warning(pwt[\"RegionCode\"],iso_to_wb)\n",
    "\n",
    "    gdp=pwt.set_index([\"country\"]).query(\"VariableCode=='rgdpe'\")[[\"year\",\"AggValue\"]].pivot(columns=\"year\",values=\"AggValue\")\n",
    "    pop=pwt.set_index([\"country\"]).query(\"VariableCode=='pop'\")[[\"year\",\"AggValue\"]].pivot(columns=\"year\",values=\"AggValue\")\n",
    "    data_pwt=gdp/pop\n"
   ]
  },
  {
   "cell_type": "code",
   "execution_count": null,
   "metadata": {
    "collapsed": true
   },
   "outputs": [],
   "source": []
  },
  {
   "cell_type": "code",
   "execution_count": null,
   "metadata": {
    "collapsed": true
   },
   "outputs": [],
   "source": []
  },
  {
   "cell_type": "markdown",
   "metadata": {},
   "source": [
    "# Process the data"
   ]
  },
  {
   "cell_type": "code",
   "execution_count": 6,
   "metadata": {
    "collapsed": false
   },
   "outputs": [
    {
     "name": "stdout",
     "output_type": "stream",
     "text": [
      "Series([], Name: year, dtype: float64)\n",
      "\n",
      "\n",
      "count    142.000000\n",
      "mean       1.878053\n",
      "std        2.485629\n",
      "min      -10.466629\n",
      "25%        0.567514\n",
      "50%        1.599204\n",
      "75%        3.008227\n",
      "max       11.195243\n",
      "Name: 0, dtype: float64\n",
      "Series([], Name: year, dtype: float64)\n",
      "\n",
      "\n",
      "count    118.000000\n",
      "mean       2.937205\n",
      "std        3.158551\n",
      "min       -5.734340\n",
      "25%        1.140960\n",
      "50%        2.798386\n",
      "75%        4.735227\n",
      "max       12.817878\n",
      "Name: 0, dtype: float64\n"
     ]
    },
    {
     "data": {
      "image/png": "[encoded data removed]",
      "text/plain": [
       "<matplotlib.figure.Figure at 0x8e9ec88>"
      ]
     },
     "metadata": {},
     "output_type": "display_data"
    }
   ],
   "source": [
    "#histograms \n",
    "for data_ in [data_wb, data_pwt]:\n",
    "    data= data_.ix[data_.index.isin(wb_countries)] #Takes only actual countries (filters things like LAC out and developed countries)\n",
    "    \n",
    "    \n",
    "    gdp_now  = mrv(data)\n",
    "    gdp_then = lrv(data)\n",
    "\n",
    "    now = mr_year(data).astype('float64')\n",
    "    then = lr_year(data).astype('float64').clip(lower=now-30)\n",
    "\n",
    "    pd.DataFrame([then,gdp_then, now, gdp_now],index=[\"year\",\"GDPpc\",\"year\",\"GDPpc\"]).T.to_excel(\"growth.xlsx\")\n",
    "    growth_rates=(np.power(gdp_then/gdp_now, -1/(now-then))-1)*100\n",
    "\n",
    "    #removes countries with little data\n",
    "    print((now-then)[(now-then<4)])\n",
    "    growth_rates[(now-then<4)]=np.nan\n",
    "\n",
    "\n",
    "    #Stats\n",
    "    ax=(1*growth_rates).plot.kde(grid=\"off\")\n",
    "    ax.set_xlabel(\"Average growth rate\")\n",
    "    ax.set_ylabel(\"Number of economis\")\n",
    "    print(\"\\n\")\n",
    "    print((1*growth_rates).describe())\n",
    "    "
   ]
  },
  {
   "cell_type": "code",
   "execution_count": 19,
   "metadata": {
    "collapsed": false
   },
   "outputs": [
    {
     "data": {
      "text/plain": [
       "array([ 0.  ,  0.01,  0.02,  0.03,  0.04,  0.05,  0.06,  0.07,  0.08,\n",
       "        0.09,  0.1 ,  0.11,  0.12,  0.13,  0.14,  0.15,  0.16,  0.17,\n",
       "        0.18,  0.19,  0.2 ,  0.21,  0.22,  0.23,  0.24,  0.25,  0.26,\n",
       "        0.27,  0.28,  0.29,  0.3 ,  0.31,  0.32,  0.33,  0.34,  0.35,\n",
       "        0.36,  0.37,  0.38,  0.39,  0.4 ,  0.41,  0.42,  0.43,  0.44,\n",
       "        0.45,  0.46,  0.47,  0.48,  0.49,  0.5 ,  0.51,  0.52,  0.53,\n",
       "        0.54,  0.55,  0.56,  0.57,  0.58,  0.59,  0.6 ,  0.61,  0.62,\n",
       "        0.63,  0.64,  0.65,  0.66,  0.67,  0.68,  0.69,  0.7 ,  0.71,\n",
       "        0.72,  0.73,  0.74,  0.75,  0.76,  0.77,  0.78,  0.79,  0.8 ,\n",
       "        0.81,  0.82,  0.83,  0.84,  0.85,  0.86,  0.87,  0.88,  0.89,\n",
       "        0.9 ,  0.91,  0.92,  0.93,  0.94,  0.95,  0.96,  0.97,  0.98,  0.99])"
      ]
     },
     "execution_count": 19,
     "metadata": {},
     "output_type": "execute_result"
    }
   ],
   "source": [
    "np.arange(0,1,1/100)"
   ]
  },
  {
   "cell_type": "code",
   "execution_count": 27,
   "metadata": {
    "collapsed": false
   },
   "outputs": [
    {
     "data": {
      "image/png": "[encoded data removed]",
      "text/plain": [
       "<matplotlib.figure.Figure at 0x8e8b2b0>"
      ]
     },
     "metadata": {},
     "output_type": "display_data"
    }
   ],
   "source": [
    "a=growth_rates.quantile(np.arange(0,1,1/100))\n",
    "a.plot(figsize=(6,6))\n",
    "# plt.hlines(y=np.arange(-6,12,1), xmin=0,xmax=1)\n",
    "plt.grid(\"on\")\n",
    "plt.savefig(\"growth_rates_cdf.png\")\n",
    "a.to_csv(\"growth_rates_cdf.csv\")"
   ]
  },
  {
   "cell_type": "code",
   "execution_count": 8,
   "metadata": {
    "collapsed": false
   },
   "outputs": [
    {
     "data": {
      "text/plain": [
       "<matplotlib.axes._subplots.AxesSubplot at 0x889eeb8>"
      ]
     },
     "execution_count": 8,
     "metadata": {},
     "output_type": "execute_result"
    },
    {
     "data": {
      "image/png": "[encoded data removed]",
      "text/plain": [
       "<matplotlib.figure.Figure at 0x889e2b0>"
      ]
     },
     "metadata": {},
     "output_type": "display_data"
    }
   ],
   "source": [
    "growth_rates.hist(bins=15)\n"
   ]
  },
  {
   "cell_type": "code",
   "execution_count": 9,
   "metadata": {
    "collapsed": false
   },
   "outputs": [
    {
     "data": {
      "text/plain": [
       "0.250000    1.140960\n",
       "0.333333    1.571456\n",
       "0.666667    3.938069\n",
       "0.750000    4.735227\n",
       "0.000000   -5.734340\n",
       "0.100000   -0.630946\n",
       "0.200000    0.760749\n",
       "0.300000    1.543696\n",
       "0.400000    2.066121\n",
       "0.500000    2.798386\n",
       "0.600000    3.624403\n",
       "0.700000    4.137476\n",
       "0.800000    5.394941\n",
       "0.900000    6.629219\n",
       "Name: 0, dtype: float64"
      ]
     },
     "execution_count": 9,
     "metadata": {},
     "output_type": "execute_result"
    }
   ],
   "source": [
    "growth_rates.quantile([0.25,1/3,2/3,0.75]+np.arange(0,1,0.1).tolist())"
   ]
  },
  {
   "cell_type": "code",
   "execution_count": null,
   "metadata": {
    "collapsed": true
   },
   "outputs": [],
   "source": []
  },
  {
   "cell_type": "code",
   "execution_count": 10,
   "metadata": {
    "collapsed": false
   },
   "outputs": [
    {
     "data": {
      "text/plain": [
       "2.4609656206132868"
      ]
     },
     "execution_count": 10,
     "metadata": {},
     "output_type": "execute_result"
    }
   ],
   "source": [
    "### The World econoy as a whole grew less than countries individually on average\n",
    "data_allcountries = data.dropna(axis=1)\n",
    "(np.power(data_allcountries[1990].sum()/data_allcountries[2010].sum(), -1/(20))-1)*100"
   ]
  },
  {
   "cell_type": "code",
   "execution_count": 11,
   "metadata": {
    "collapsed": false
   },
   "outputs": [
    {
     "data": {
      "text/plain": [
       "3.4437723825420319"
      ]
     },
     "execution_count": 11,
     "metadata": {},
     "output_type": "execute_result"
    }
   ],
   "source": [
    "(np.power(data[1960].sum()/data[2010].sum(), -1/(50))-1)*100"
   ]
  },
  {
   "cell_type": "code",
   "execution_count": 12,
   "metadata": {
    "collapsed": true
   },
   "outputs": [],
   "source": [
    "import matplotlib.pylab as plt"
   ]
  },
  {
   "cell_type": "code",
   "execution_count": 13,
   "metadata": {
    "collapsed": false
   },
   "outputs": [
    {
     "data": {
      "image/png": "[encoded data removed]",
      "text/plain": [
       "<matplotlib.figure.Figure at 0x939bb38>"
      ]
     },
     "metadata": {},
     "output_type": "display_data"
    }
   ],
   "source": [
    "x=old_gr =(np.power(data_allcountries[2000]/data_allcountries[2010], -1/(10))-1)*100\n",
    "y=new_gr =(np.power(data_allcountries[1990]/data_allcountries[2000], -1/(10))-1)*100\n",
    "names_=x.index\n",
    "\n",
    "\n",
    "fig= plt.figure(figsize=(6,6))\n",
    "\n",
    "ax=plt.gca()\n",
    "ax.scatter(old_gr,new_gr, s=30, alpha=0.5)\n",
    "\n",
    "#ax.spines['bottom'].set_position(\"bottom\")\n",
    "ax.spines['right'].set_color('none')\n",
    "\n",
    "ax.spines['top'].set_color('none')\n",
    "#ax.spines['left'].set_position(\"left\")\n",
    "\n",
    "ax.xaxis.set_ticks_position('bottom')\n",
    "ax.yaxis.set_ticks_position('left')\n",
    "\n",
    "\n",
    "ax.set_xlabel(\"1990-2000\")\n",
    "ax.set_ylabel(\"2000-2010\")\n",
    "\n",
    "\n",
    "\n",
    "ax.scatter(3,3,marker=\"+\",color=\"red\", s=70)\n",
    "\n",
    "logical = False &( (old_gr<0 )| (old_gr>10) | (new_gr>10) | (new_gr<0) )\n",
    "for label, x_, y_ in zip(names_[logical], x[logical], y[logical]):\n",
    "    plt.annotate(\n",
    "        label, \n",
    "        xy = (x_, y_), xytext = (10, 0),\n",
    "        textcoords = 'offset points', ha = 'left', va = 'center',fontsize=13\n",
    "        #bbox = nonedict(boxstyle = 'round,pad=0.5', fc = 'yellow', alpha = 0.5),\n",
    "        #arrowprops = dict(arrowstyle = '->', connectionstyle = 'arc3,rad=0')\n",
    "    )\n",
    "\n",
    "\n",
    "plt.title(\"Average real per capita GDP growth (% per year)\")    \n",
    "    \n",
    "plt.savefig(\"growth_rates_scatter.png\")\n"
   ]
  },
  {
   "cell_type": "code",
   "execution_count": 14,
   "metadata": {
    "collapsed": false
   },
   "outputs": [
    {
     "data": {
      "text/plain": [
       "then        1980.000000\n",
       "gdp_then     925.367228\n",
       "now         2010.000000\n",
       "gdp_now      384.504907\n",
       "Name: Congo, Dem. Rep., dtype: float64"
      ]
     },
     "execution_count": 14,
     "metadata": {},
     "output_type": "execute_result"
    }
   ],
   "source": [
    "x=pd.DataFrame([then,gdp_then, now,gdp_now],index=[\"then\",\"gdp_then\",\"now\",\"gdp_now\"])\n",
    "x[\"Congo, Dem. Rep.\"]"
   ]
  },
  {
   "cell_type": "markdown",
   "metadata": {},
   "source": [
    "# Output"
   ]
  },
  {
   "cell_type": "code",
   "execution_count": 15,
   "metadata": {
    "collapsed": false
   },
   "outputs": [],
   "source": [
    "g=growth_rates.apply(fancy_round).dropna()\n",
    "g.to_csv(\"growth_rates.csv\")\n",
    "\n",
    "g=g.reset_index()\n",
    "\n",
    "\n",
    "#g.to_csv(\"list_growth_rates_range.csv\",index=None)\n",
    "\n",
    "#with open(\"Output.txt\", \"w\") as text_file:\n",
    "#    text_file.write(\", \".join(g))\n",
    "\n",
    "\n",
    "def arrange_in_n_columns(g,n=3):\n",
    "    #Arrange over n columns\n",
    "    for i in np.arange(0,n-np.mod(g.shape[0],n)):\n",
    "        g.loc[len(g)+1]=\" \"\n",
    "    return pd.DataFrame(g.reshape(3,g.shape[0]/n)).T\n",
    "\n",
    "arrange_in_n_columns(g[\"country\"]+\" \"+g[0].astype(str)+u\"\\u2014\"+(2*g[0]).astype(str)).to_csv(\"growth_rates_range_three_columns.csv\",header=None,index=None)    \n",
    "\n",
    "arrange_in_n_columns(g[\"country\"]+\" \"+(1.5*g[0]).apply(fancy_round).astype(str)).to_csv(\"growth_rates_15_three_columns.csv\",header=None,index=None)  "
   ]
  },
  {
   "cell_type": "code",
   "execution_count": 16,
   "metadata": {
    "collapsed": false
   },
   "outputs": [
    {
     "data": {
      "text/plain": [
       "76.995998895671718"
      ]
     },
     "execution_count": 16,
     "metadata": {},
     "output_type": "execute_result"
    }
   ],
   "source": [
    "#Unrelated line to compute discount factors. But mind numerical error, this is better done with analytical resolution\n",
    "1000*(1/np.power((1.12),np.arange(0,19))).sum() / 1000*(1/np.power((1.12),np.arange(0,100))).sum()\n"
   ]
  }
 ],
 "metadata": {
  "kernelspec": {
   "display_name": "Python 3",
   "language": "python",
   "name": "python3"
  },
  "language_info": {
   "codemirror_mode": {
    "name": "ipython",
    "version": 3
   },
   "file_extension": ".py",
   "mimetype": "text/x-python",
   "name": "python",
   "nbconvert_exporter": "python",
   "pygments_lexer": "ipython3",
   "version": "3.4.4"
  }
 },
 "nbformat": 4,
 "nbformat_minor": 0
}
