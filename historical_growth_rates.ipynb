{
 "cells": [
  {
   "cell_type": "code",
   "execution_count": 3,
   "metadata": {
    "collapsed": false
   },
   "outputs": [],
   "source": [
    "%load_ext autoreload\n",
    "%autoreload 2\n",
    "\n",
    "%matplotlib inline"
   ]
  },
  {
   "cell_type": "code",
   "execution_count": 4,
   "metadata": {
    "collapsed": false
   },
   "outputs": [
    {
     "name": "stderr",
     "output_type": "stream",
     "text": [
      "C:\\Users\\Admin\\Anaconda3\\lib\\site-packages\\pandas\\io\\wb.py:19: FutureWarning: \n",
      "The pandas.io.wb module is moved to a separate package (pandas-datareader) and will be removed from pandas in a future version.\n",
      "After installing the pandas-datareader package (https://github.com/pydata/pandas-datareader), you can change the import ``from pandas.io import data, wb`` to ``from pandas_datareader import data, wb``.\n",
      "  FutureWarning)\n"
     ]
    }
   ],
   "source": [
    "from fancy_round import fancy_round\n",
    "from wb_api_wrapper import *\n",
    "import numpy as np\n",
    "import pandas as pd\n"
   ]
  },
  {
   "cell_type": "markdown",
   "metadata": {},
   "source": [
    "### Data from WDI"
   ]
  },
  {
   "cell_type": "code",
   "execution_count": 5,
   "metadata": {
    "collapsed": false
   },
   "outputs": [],
   "source": [
    "wb_countries = pd.read_csv(\"wb_countries.txt\",sep=\"\\t\",header=None, squeeze=True)"
   ]
  },
  {
   "cell_type": "code",
   "execution_count": 6,
   "metadata": {
    "collapsed": false
   },
   "outputs": [],
   "source": [
    "data_ = get_wb(\"NY.GDP.PCAP.KN\")#GDP per capita (constant LCU)\n",
    "\"\"\" NY.GDP.MKTP.KD.ZG real growth ong serie\n",
    "\"NY.GDP.PCAP.PP.CD\"  ppp gdp pc short series\n",
    "NY.GDP.MKTP.KD \n",
    "NY.GDP.PCAP.KD\"\"\";\n",
    "\n",
    "data = data_.ix[data_.index.isin(wb_countries)] #Takes only actual countries (filters things like LAC out)"
   ]
  },
  {
   "cell_type": "code",
   "execution_count": 7,
   "metadata": {
    "collapsed": false
   },
   "outputs": [],
   "source": [
    "data.index.values;"
   ]
  },
  {
   "cell_type": "markdown",
   "metadata": {},
   "source": [
    "### Data from PWT (not appropriate)"
   ]
  },
  {
   "cell_type": "code",
   "execution_count": 8,
   "metadata": {
    "collapsed": false
   },
   "outputs": [
    {
     "data": {
      "text/html": [
       "<div>\n",
       "<table border=\"1\" class=\"dataframe\">\n",
       "  <thead>\n",
       "    <tr style=\"text-align: right;\">\n",
       "      <th>year</th>\n",
       "      <th>1950</th>\n",
       "      <th>1960</th>\n",
       "      <th>1970</th>\n",
       "      <th>1980</th>\n",
       "      <th>1990</th>\n",
       "      <th>2000</th>\n",
       "      <th>2010</th>\n",
       "    </tr>\n",
       "    <tr>\n",
       "      <th>country</th>\n",
       "      <th></th>\n",
       "      <th></th>\n",
       "      <th></th>\n",
       "      <th></th>\n",
       "      <th></th>\n",
       "      <th></th>\n",
       "      <th></th>\n",
       "    </tr>\n",
       "  </thead>\n",
       "  <tbody>\n",
       "    <tr>\n",
       "      <th>Albania</th>\n",
       "      <td>NaN</td>\n",
       "      <td>NaN</td>\n",
       "      <td>3766.493488</td>\n",
       "      <td>4452.976576</td>\n",
       "      <td>4530.989903</td>\n",
       "      <td>4466.585358</td>\n",
       "      <td>7357.165365</td>\n",
       "    </tr>\n",
       "    <tr>\n",
       "      <th>Angola</th>\n",
       "      <td>NaN</td>\n",
       "      <td>NaN</td>\n",
       "      <td>3210.416964</td>\n",
       "      <td>2519.768588</td>\n",
       "      <td>2642.631539</td>\n",
       "      <td>2318.199248</td>\n",
       "      <td>5128.301854</td>\n",
       "    </tr>\n",
       "    <tr>\n",
       "      <th>Antigua and Barbuda</th>\n",
       "      <td>NaN</td>\n",
       "      <td>NaN</td>\n",
       "      <td>4323.554046</td>\n",
       "      <td>5735.031122</td>\n",
       "      <td>12019.787888</td>\n",
       "      <td>13379.636257</td>\n",
       "      <td>13331.033111</td>\n",
       "    </tr>\n",
       "    <tr>\n",
       "      <th>Argentina</th>\n",
       "      <td>2149.967856</td>\n",
       "      <td>2391.240933</td>\n",
       "      <td>2962.784587</td>\n",
       "      <td>3385.293545</td>\n",
       "      <td>4619.843833</td>\n",
       "      <td>10602.432348</td>\n",
       "      <td>14211.016385</td>\n",
       "    </tr>\n",
       "    <tr>\n",
       "      <th>Armenia</th>\n",
       "      <td>NaN</td>\n",
       "      <td>NaN</td>\n",
       "      <td>NaN</td>\n",
       "      <td>NaN</td>\n",
       "      <td>3895.470798</td>\n",
       "      <td>2580.807534</td>\n",
       "      <td>5045.369734</td>\n",
       "    </tr>\n",
       "  </tbody>\n",
       "</table>\n",
       "</div>"
      ],
      "text/plain": [
       "year                        1950         1960         1970         1980  \\\n",
       "country                                                                   \n",
       "Albania                      NaN          NaN  3766.493488  4452.976576   \n",
       "Angola                       NaN          NaN  3210.416964  2519.768588   \n",
       "Antigua and Barbuda          NaN          NaN  4323.554046  5735.031122   \n",
       "Argentina            2149.967856  2391.240933  2962.784587  3385.293545   \n",
       "Armenia                      NaN          NaN          NaN          NaN   \n",
       "\n",
       "year                         1990          2000          2010  \n",
       "country                                                        \n",
       "Albania               4530.989903   4466.585358   7357.165365  \n",
       "Angola                2642.631539   2318.199248   5128.301854  \n",
       "Antigua and Barbuda  12019.787888  13379.636257  13331.033111  \n",
       "Argentina             4619.843833  10602.432348  14211.016385  \n",
       "Armenia               3895.470798   2580.807534   5045.369734  "
      ]
     },
     "execution_count": 8,
     "metadata": {},
     "output_type": "execute_result"
    }
   ],
   "source": [
    "iso_to_wb =pd.read_csv('iso3_to_wb_name.csv',index_col=\"iso3\",squeeze=True);\n",
    "\n",
    "def replace_with_warning(series_in,dico):\n",
    "    out=series_in.replace(dico)\n",
    "    bads = [c for c in out if c not in dico.tolist()]\n",
    "    if bads !=[]:\n",
    "        warnings.warn(\"\\nbad country names : \"+\",\".join(bads))\n",
    "\n",
    "    return out\n",
    "\n",
    "if False:\n",
    "    #Data on real GDP per capita. Ends in 2002, so not used\n",
    "    pwt = pd.read_csv(\"FebPwtExport11172015.csv\").drop(\"VariableCode\",axis=1).rename(columns={\"YearCode\":\"year\"})\n",
    "    pwt[\"country\"] = replace_with_warning(pwt[\"RegionCode\"],iso_to_wb)\n",
    "\n",
    "    #pivots data\n",
    "    hop=pwt.set_index([\"country\"])[[\"year\",\"AggValue\"]]\n",
    "    data_pwt=hop.pivot(columns=\"year\",values=\"AggValue\")\n",
    "\n",
    "\n",
    "\n",
    "#Data on pop and reald gdp PPP. Ends in 2010, so better.\n",
    "pwt= pd.read_csv(\"pwt_rgdpe_pop_8.1.csv\").rename(columns={\"YearCode\":\"year\"})\n",
    "pwt[\"country\"] = replace_with_warning(pwt[\"RegionCode\"],iso_to_wb)\n",
    "\n",
    "gdp=pwt.set_index([\"country\"]).query(\"VariableCode=='rgdpe'\")[[\"year\",\"AggValue\"]].pivot(columns=\"year\",values=\"AggValue\")\n",
    "pop=pwt.set_index([\"country\"]).query(\"VariableCode=='pop'\")[[\"year\",\"AggValue\"]].pivot(columns=\"year\",values=\"AggValue\")\n",
    "data_pwt=gdp/pop\n",
    "data_pwt.head()"
   ]
  },
  {
   "cell_type": "markdown",
   "metadata": {},
   "source": [
    "# Process the data"
   ]
  },
  {
   "cell_type": "code",
   "execution_count": 9,
   "metadata": {
    "collapsed": false
   },
   "outputs": [
    {
     "name": "stdout",
     "output_type": "stream",
     "text": [
      "Series([], Name: year, dtype: float64)\n"
     ]
    },
    {
     "data": {
      "text/plain": [
       "count    203.000000\n",
       "mean       2.778062\n",
       "std        3.258115\n",
       "min       -9.388767\n",
       "25%        1.101712\n",
       "50%        2.587352\n",
       "75%        4.155794\n",
       "max       16.171492\n",
       "Name: 0, dtype: float64"
      ]
     },
     "execution_count": 9,
     "metadata": {},
     "output_type": "execute_result"
    },
    {
     "data": {
      "image/png": "[encoded data removed]",
      "text/plain": [
       "<matplotlib.figure.Figure at 0x8707358>"
      ]
     },
     "metadata": {},
     "output_type": "display_data"
    }
   ],
   "source": [
    "gdp_now  = mrv(data)\n",
    "gdp_then = lrv(data)\n",
    "\n",
    "now = mr_year(data).astype('float64')\n",
    "then = lr_year(data).astype('float64').clip(lower=now-30)\n",
    "\n",
    "pd.DataFrame([then,gdp_then, now, gdp_now],index=[\"year\",\"GDPpc\",\"year\",\"GDPpc\"]).T.to_excel(\"growth.xlsx\")\n",
    "growth_rates=(np.power(gdp_then/gdp_now, -1/(now-then))-1)*100\n",
    "\n",
    "\n",
    "#removes countries with little data\n",
    "print((now-then)[(now-then<4)])\n",
    "growth_rates[(now-then<4)]=np.nan\n",
    "\n",
    "\n",
    "#Stats\n",
    "ax=(1.5*growth_rates).hist(bins=15,grid=\"off\")\n",
    "ax.set_xlabel(\"Average growth rate\")\n",
    "ax.set_ylabel(\"Number of economis\")\n",
    "(1.5*growth_rates).describe()"
   ]
  },
  {
   "cell_type": "code",
   "execution_count": 10,
   "metadata": {
    "collapsed": false
   },
   "outputs": [
    {
     "data": {
      "text/plain": [
       "then          1984.000000\n",
       "gdp_then    290810.786922\n",
       "now           2014.000000\n",
       "gdp_now     134337.048117\n",
       "Name: Congo, Dem. Rep., dtype: float64"
      ]
     },
     "execution_count": 10,
     "metadata": {},
     "output_type": "execute_result"
    }
   ],
   "source": [
    "x=pd.DataFrame([then,gdp_then, now,gdp_now],index=[\"then\",\"gdp_then\",\"now\",\"gdp_now\"])\n",
    "x[\"Congo, Dem. Rep.\"]"
   ]
  },
  {
   "cell_type": "code",
   "execution_count": 17,
   "metadata": {
    "collapsed": false
   },
   "outputs": [],
   "source": [
    "#Output\n",
    "\n",
    "g=growth_rates.apply(fancy_round).dropna()\n",
    "g.to_csv(\"growth_rates.csv\")\n",
    "\n",
    "g=g.reset_index()\n",
    "\n",
    "\n",
    "#g.to_csv(\"list_growth_rates_range.csv\",index=None)\n",
    "\n",
    "#with open(\"Output.txt\", \"w\") as text_file:\n",
    "#    text_file.write(\", \".join(g))\n",
    "\n",
    "\n",
    "def arrange_in_n_columns(g,n=3):\n",
    "    #Arrange over n columns\n",
    "    for i in np.arange(0,n-np.mod(g.shape[0],n)):\n",
    "        g.loc[len(g)+1]=\" \"\n",
    "    return pd.DataFrame(g.reshape(3,g.shape[0]/n)).T\n",
    "\n",
    "arrange_in_n_columns(g[\"country\"]+\" \"+g[0].astype(str)+u\"\\u2014\"+(2*g[0]).astype(str)).to_csv(\"growth_rates_range_three_columns.csv\",header=None,index=None)    \n",
    "\n",
    "arrange_in_n_columns(g[\"country\"]+\" \"+(1.5*g[0]).apply(fancy_round).astype(str)).to_csv(\"growth_rates_15_three_columns.csv\",header=None,index=None)  "
   ]
  },
  {
   "cell_type": "code",
   "execution_count": null,
   "metadata": {
    "collapsed": false
   },
   "outputs": [],
   "source": []
  },
  {
   "cell_type": "code",
   "execution_count": null,
   "metadata": {
    "collapsed": true
   },
   "outputs": [],
   "source": []
  }
 ],
 "metadata": {
  "kernelspec": {
   "display_name": "Python 3",
   "language": "python",
   "name": "python3"
  },
  "language_info": {
   "codemirror_mode": {
    "name": "ipython",
    "version": 3
   },
   "file_extension": ".py",
   "mimetype": "text/x-python",
   "name": "python",
   "nbconvert_exporter": "python",
   "pygments_lexer": "ipython3",
   "version": "3.4.3"
  }
 },
 "nbformat": 4,
 "nbformat_minor": 0
}
