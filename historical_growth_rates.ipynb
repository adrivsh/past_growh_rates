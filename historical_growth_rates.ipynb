{
 "cells": [
  {
   "cell_type": "code",
   "execution_count": 7,
   "metadata": {
    "collapsed": false
   },
   "outputs": [
    {
     "name": "stdout",
     "output_type": "stream",
     "text": [
      "The autoreload extension is already loaded. To reload it, use:\n",
      "  %reload_ext autoreload\n"
     ]
    }
   ],
   "source": [
    "%load_ext autoreload\n",
    "%autoreload 2\n",
    "\n",
    "%matplotlib inline"
   ]
  },
  {
   "cell_type": "code",
   "execution_count": 8,
   "metadata": {
    "collapsed": false
   },
   "outputs": [],
   "source": [
    "from fancy_round import fancy_round\n",
    "from wb_api_wrapper import *\n",
    "import numpy as np\n",
    "import pandas as pd\n"
   ]
  },
  {
   "cell_type": "markdown",
   "metadata": {},
   "source": [
    "### Data from WDI"
   ]
  },
  {
   "cell_type": "code",
   "execution_count": 9,
   "metadata": {
    "collapsed": false
   },
   "outputs": [],
   "source": [
    "groups = pd.read_csv(\"income_groups.csv\",header =4,index_col=[\"Economy\"], na_values=\"..\", usecols=[\"Economy\",\"Lending category\"] )\n",
    "wb_countries=groups.dropna().index"
   ]
  },
  {
   "cell_type": "code",
   "execution_count": 14,
   "metadata": {
    "collapsed": false
   },
   "outputs": [],
   "source": [
    "data_wb = get_wb(\"NY.GDP.PCAP.KN\")#GDP per capita (constant LCU)\n",
    "\"\"\" NY.GDP.MKTP.KD.ZG real growth ong serie\n",
    "\"NY.GDP.PCAP.PP.CD\"  ppp gdp pc short series\n",
    "NY.GDP.MKTP.KD \n",
    "NY.GDP.PCAP.KD\"\"\";\n",
    "\n"
   ]
  },
  {
   "cell_type": "markdown",
   "metadata": {},
   "source": [
    "### Data from PWT "
   ]
  },
  {
   "cell_type": "code",
   "execution_count": 21,
   "metadata": {
    "collapsed": false
   },
   "outputs": [],
   "source": [
    "iso_to_wb =pd.read_csv('iso3_to_wb_name.csv',index_col=\"iso3\",squeeze=True);\n",
    "\n",
    "def replace_with_warning(series_in,dico):\n",
    "    out=series_in.replace(dico)\n",
    "    bads = [c for c in out if c not in dico.tolist()]\n",
    "    if bads !=[]:\n",
    "        warnings.warn(\"\\nbad country names : \"+\",\".join(bads))\n",
    "    return out\n",
    "\n",
    "if False:\n",
    "    #Data on real GDP per capita. Ends in 2002\n",
    "    pwt = pd.read_csv(\"FebPwtExport11172015.csv\").drop(\"VariableCode\",axis=1).rename(columns={\"YearCode\":\"year\"})\n",
    "    pwt[\"country\"] = replace_with_warning(pwt[\"RegionCode\"],iso_to_wb)\n",
    "\n",
    "    #pivots data\n",
    "    hop=pwt.set_index([\"country\"])[[\"year\",\"AggValue\"]]\n",
    "    data_pwt=hop.pivot(columns=\"year\",values=\"AggValue\")\n",
    "\n",
    "else:\n",
    "    #Data on pop and reald gdp PPP. Ends in 2010\n",
    "    pwt= pd.read_csv(\"pwt_rgdpe_pop_8.1.csv\").rename(columns={\"YearCode\":\"year\"})\n",
    "    pwt[\"country\"] = replace_with_warning(pwt[\"RegionCode\"],iso_to_wb)\n",
    "\n",
    "    gdp=pwt.set_index([\"country\"]).query(\"VariableCode=='rgdpe'\")[[\"year\",\"AggValue\"]].pivot(columns=\"year\",values=\"AggValue\")\n",
    "    pop=pwt.set_index([\"country\"]).query(\"VariableCode=='pop'\")[[\"year\",\"AggValue\"]].pivot(columns=\"year\",values=\"AggValue\")\n",
    "    data_pwt=gdp/pop\n"
   ]
  },
  {
   "cell_type": "markdown",
   "metadata": {},
   "source": [
    "# Process the data"
   ]
  },
  {
   "cell_type": "code",
   "execution_count": 22,
   "metadata": {
    "collapsed": false
   },
   "outputs": [
    {
     "name": "stdout",
     "output_type": "stream",
     "text": [
      "Series([], Name: year, dtype: float64)\n",
      "\n",
      "\n",
      "count    142.000000\n",
      "mean       1.914439\n",
      "std        2.354708\n",
      "min       -6.259178\n",
      "25%        0.609807\n",
      "50%        1.599204\n",
      "75%        2.969416\n",
      "max       10.780995\n",
      "Name: 0, dtype: float64\n",
      "Series([], Name: year, dtype: float64)\n",
      "\n",
      "\n",
      "count    118.000000\n",
      "mean       2.937205\n",
      "std        3.158551\n",
      "min       -5.734340\n",
      "25%        1.140960\n",
      "50%        2.798386\n",
      "75%        4.735227\n",
      "max       12.817878\n",
      "Name: 0, dtype: float64\n"
     ]
    },
    {
     "data": {
      "image/png": "[encoded data removed]",
      "text/plain": [
       "<matplotlib.figure.Figure at 0x941e978>"
      ]
     },
     "metadata": {},
     "output_type": "display_data"
    }
   ],
   "source": [
    "#histograms \n",
    "for data_ in [data_wb, data_pwt]:\n",
    "    data= data_.ix[data_.index.isin(wb_countries)] #Takes only actual countries (filters things like LAC out and developed countries)\n",
    "    \n",
    "    \n",
    "    gdp_now  = mrv(data)\n",
    "    gdp_then = lrv(data)\n",
    "\n",
    "    now = mr_year(data).astype('float64')\n",
    "    then = lr_year(data).astype('float64').clip(lower=now-30)\n",
    "\n",
    "    pd.DataFrame([then,gdp_then, now, gdp_now],index=[\"year\",\"GDPpc\",\"year\",\"GDPpc\"]).T.to_excel(\"growth.xlsx\")\n",
    "    growth_rates=(np.power(gdp_then/gdp_now, -1/(now-then))-1)*100\n",
    "\n",
    "    #removes countries with little data\n",
    "    print((now-then)[(now-then<4)])\n",
    "    growth_rates[(now-then<4)]=np.nan\n",
    "\n",
    "\n",
    "    #Stats\n",
    "    ax=(1*growth_rates).plot(kind=\"kde\",grid=\"off\")\n",
    "    ax.set_xlabel(\"Average growth rate\")\n",
    "    ax.set_ylabel(\"Number of economis\")\n",
    "    print(\"\\n\")\n",
    "    print((1*growth_rates).describe())\n",
    "    "
   ]
  },
  {
   "cell_type": "code",
   "execution_count": 23,
   "metadata": {
    "collapsed": false
   },
   "outputs": [
    {
     "data": {
      "text/plain": [
       "2.4609656206132868"
      ]
     },
     "execution_count": 23,
     "metadata": {},
     "output_type": "execute_result"
    }
   ],
   "source": [
    "### The World econoy as a whole grew less than countries individually on average\n",
    "data_allcountries = data.dropna(axis=1)\n",
    "(np.power(data_allcountries[1990].sum()/data_allcountries[2010].sum(), -1/(20))-1)*100"
   ]
  },
  {
   "cell_type": "code",
   "execution_count": 24,
   "metadata": {
    "collapsed": true
   },
   "outputs": [],
   "source": [
    "import matplotlib.pylab as plt"
   ]
  },
  {
   "cell_type": "code",
   "execution_count": 25,
   "metadata": {
    "collapsed": false
   },
   "outputs": [
    {
     "name": "stderr",
     "output_type": "stream",
     "text": [
      "C:\\Users\\Admin\\Anaconda3\\lib\\site-packages\\matplotlib\\collections.py:590: FutureWarning: elementwise comparison failed; returning scalar instead, but in the future will perform elementwise comparison\n",
      "  if self._edgecolors == str('face'):\n"
     ]
    },
    {
     "data": {
      "image/png": "[encoded data removed]",
      "text/plain": [
       "<matplotlib.figure.Figure at 0x943eb38>"
      ]
     },
     "metadata": {},
     "output_type": "display_data"
    }
   ],
   "source": [
    "x=old_gr =(np.power(data_allcountries[2000]/data_allcountries[2010], -1/(10))-1)*100\n",
    "y=new_gr =(np.power(data_allcountries[1990]/data_allcountries[2000], -1/(10))-1)*100\n",
    "names_=x.index\n",
    "\n",
    "ax=plt.subplot(1,1,1)\n",
    "ax.scatter(old_gr,new_gr, s=30, alpha=0.5)\n",
    "\n",
    "#ax.spines['bottom'].set_position(\"bottom\")\n",
    "ax.spines['right'].set_color('none')\n",
    "\n",
    "ax.spines['top'].set_color('none')\n",
    "#ax.spines['left'].set_position(\"left\")\n",
    "\n",
    "ax.grid(\"on\")\n",
    "\n",
    "ax.set_xlabel(\"1990-2000\")\n",
    "ax.set_ylabel(\"2000-2010\")\n",
    "\n",
    "logical = False &( (old_gr<0 )| (old_gr>10) | (new_gr>10) | (new_gr<0) )\n",
    "for label, x_, y_ in zip(names_[logical], x[logical], y[logical]):\n",
    "    plt.annotate(\n",
    "        label, \n",
    "        xy = (x_, y_), xytext = (10, 0),\n",
    "        textcoords = 'offset points', ha = 'left', va = 'center',fontsize=13\n",
    "        #bbox = nonedict(boxstyle = 'round,pad=0.5', fc = 'yellow', alpha = 0.5),\n",
    "        #arrowprops = dict(arrowstyle = '->', connectionstyle = 'arc3,rad=0')\n",
    "    )\n",
    "\n",
    "    \n",
    "plt.savefig(\"growth_rates_scatter.png\")"
   ]
  },
  {
   "cell_type": "code",
   "execution_count": 27,
   "metadata": {
    "collapsed": false
   },
   "outputs": [
    {
     "data": {
      "text/plain": [
       "then        1980.000000\n",
       "gdp_then     925.367228\n",
       "now         2010.000000\n",
       "gdp_now      384.504907\n",
       "Name: Congo, Dem. Rep., dtype: float64"
      ]
     },
     "execution_count": 27,
     "metadata": {},
     "output_type": "execute_result"
    }
   ],
   "source": [
    "x=pd.DataFrame([then,gdp_then, now,gdp_now],index=[\"then\",\"gdp_then\",\"now\",\"gdp_now\"])\n",
    "x[\"Congo, Dem. Rep.\"]"
   ]
  },
  {
   "cell_type": "markdown",
   "metadata": {},
   "source": [
    "# Output"
   ]
  },
  {
   "cell_type": "code",
   "execution_count": 28,
   "metadata": {
    "collapsed": false
   },
   "outputs": [],
   "source": [
    "g=growth_rates.apply(fancy_round).dropna()\n",
    "g.to_csv(\"growth_rates.csv\")\n",
    "\n",
    "g=g.reset_index()\n",
    "\n",
    "\n",
    "#g.to_csv(\"list_growth_rates_range.csv\",index=None)\n",
    "\n",
    "#with open(\"Output.txt\", \"w\") as text_file:\n",
    "#    text_file.write(\", \".join(g))\n",
    "\n",
    "\n",
    "def arrange_in_n_columns(g,n=3):\n",
    "    #Arrange over n columns\n",
    "    for i in np.arange(0,n-np.mod(g.shape[0],n)):\n",
    "        g.loc[len(g)+1]=\" \"\n",
    "    return pd.DataFrame(g.reshape(3,g.shape[0]/n)).T\n",
    "\n",
    "arrange_in_n_columns(g[\"country\"]+\" \"+g[0].astype(str)+u\"\\u2014\"+(2*g[0]).astype(str)).to_csv(\"growth_rates_range_three_columns.csv\",header=None,index=None)    \n",
    "\n",
    "arrange_in_n_columns(g[\"country\"]+\" \"+(1.5*g[0]).apply(fancy_round).astype(str)).to_csv(\"growth_rates_15_three_columns.csv\",header=None,index=None)  "
   ]
  },
  {
   "cell_type": "code",
   "execution_count": 26,
   "metadata": {
    "collapsed": false
   },
   "outputs": [
    {
     "data": {
      "text/plain": [
       "76.995998895671718"
      ]
     },
     "execution_count": 26,
     "metadata": {},
     "output_type": "execute_result"
    }
   ],
   "source": [
    "#Unrelated line to compute discount factors. But mind numerical error, this is better done with analytical resolution\n",
    "1000*(1/np.power((1.12),np.arange(0,19))).sum() / 1000*(1/np.power((1.12),np.arange(0,100))).sum()\n"
   ]
  }
 ],
 "metadata": {
  "kernelspec": {
   "display_name": "Python 3",
   "language": "python",
   "name": "python3"
  },
  "language_info": {
   "codemirror_mode": {
    "name": "ipython",
    "version": 3
   },
   "file_extension": ".py",
   "mimetype": "text/x-python",
   "name": "python",
   "nbconvert_exporter": "python",
   "pygments_lexer": "ipython3",
   "version": "3.4.3"
  }
 },
 "nbformat": 4,
 "nbformat_minor": 0
}
